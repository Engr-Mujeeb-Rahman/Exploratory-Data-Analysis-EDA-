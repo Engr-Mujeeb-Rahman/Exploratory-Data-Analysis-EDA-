{
 "cells": [
  {
   "cell_type": "code",
   "execution_count": 1,
   "id": "e272a61e",
   "metadata": {},
   "outputs": [],
   "source": [
    "import pandas as pd\n",
    "import numpy as np\n",
    "import matplotlib.pyplot as plt\n",
    "import seaborn as sns"
   ]
  },
  {
   "cell_type": "code",
   "execution_count": 2,
   "id": "88ad0330",
   "metadata": {},
   "outputs": [
    {
     "data": {
      "text/html": [
       "<div>\n",
       "<style scoped>\n",
       "    .dataframe tbody tr th:only-of-type {\n",
       "        vertical-align: middle;\n",
       "    }\n",
       "\n",
       "    .dataframe tbody tr th {\n",
       "        vertical-align: top;\n",
       "    }\n",
       "\n",
       "    .dataframe thead th {\n",
       "        text-align: right;\n",
       "    }\n",
       "</style>\n",
       "<table border=\"1\" class=\"dataframe\">\n",
       "  <thead>\n",
       "    <tr style=\"text-align: right;\">\n",
       "      <th></th>\n",
       "      <th>Avg. Area Income</th>\n",
       "      <th>Avg. Area House Age</th>\n",
       "      <th>Avg. Area Number of Rooms</th>\n",
       "      <th>Avg. Area Number of Bedrooms</th>\n",
       "      <th>Area Population</th>\n",
       "      <th>Price</th>\n",
       "      <th>Address</th>\n",
       "    </tr>\n",
       "  </thead>\n",
       "  <tbody>\n",
       "    <tr>\n",
       "      <th>0</th>\n",
       "      <td>79545.458574</td>\n",
       "      <td>5.682861</td>\n",
       "      <td>7.009188</td>\n",
       "      <td>4.09</td>\n",
       "      <td>23086.800503</td>\n",
       "      <td>1.059034e+06</td>\n",
       "      <td>208 Michael Ferry Apt. 674\\nLaurabury, NE 3701...</td>\n",
       "    </tr>\n",
       "    <tr>\n",
       "      <th>1</th>\n",
       "      <td>79248.642455</td>\n",
       "      <td>6.002900</td>\n",
       "      <td>6.730821</td>\n",
       "      <td>3.09</td>\n",
       "      <td>40173.072174</td>\n",
       "      <td>1.505891e+06</td>\n",
       "      <td>188 Johnson Views Suite 079\\nLake Kathleen, CA...</td>\n",
       "    </tr>\n",
       "    <tr>\n",
       "      <th>2</th>\n",
       "      <td>61287.067179</td>\n",
       "      <td>5.865890</td>\n",
       "      <td>8.512727</td>\n",
       "      <td>5.13</td>\n",
       "      <td>36882.159400</td>\n",
       "      <td>1.058988e+06</td>\n",
       "      <td>9127 Elizabeth Stravenue\\nDanieltown, WI 06482...</td>\n",
       "    </tr>\n",
       "    <tr>\n",
       "      <th>3</th>\n",
       "      <td>63345.240046</td>\n",
       "      <td>7.188236</td>\n",
       "      <td>5.586729</td>\n",
       "      <td>3.26</td>\n",
       "      <td>34310.242831</td>\n",
       "      <td>1.260617e+06</td>\n",
       "      <td>USS Barnett\\nFPO AP 44820</td>\n",
       "    </tr>\n",
       "    <tr>\n",
       "      <th>4</th>\n",
       "      <td>59982.197226</td>\n",
       "      <td>5.040555</td>\n",
       "      <td>7.839388</td>\n",
       "      <td>4.23</td>\n",
       "      <td>26354.109472</td>\n",
       "      <td>6.309435e+05</td>\n",
       "      <td>USNS Raymond\\nFPO AE 09386</td>\n",
       "    </tr>\n",
       "    <tr>\n",
       "      <th>...</th>\n",
       "      <td>...</td>\n",
       "      <td>...</td>\n",
       "      <td>...</td>\n",
       "      <td>...</td>\n",
       "      <td>...</td>\n",
       "      <td>...</td>\n",
       "      <td>...</td>\n",
       "    </tr>\n",
       "    <tr>\n",
       "      <th>4995</th>\n",
       "      <td>60567.944140</td>\n",
       "      <td>7.830362</td>\n",
       "      <td>6.137356</td>\n",
       "      <td>3.46</td>\n",
       "      <td>22837.361035</td>\n",
       "      <td>1.060194e+06</td>\n",
       "      <td>USNS Williams\\nFPO AP 30153-7653</td>\n",
       "    </tr>\n",
       "    <tr>\n",
       "      <th>4996</th>\n",
       "      <td>78491.275435</td>\n",
       "      <td>6.999135</td>\n",
       "      <td>6.576763</td>\n",
       "      <td>4.02</td>\n",
       "      <td>25616.115489</td>\n",
       "      <td>1.482618e+06</td>\n",
       "      <td>PSC 9258, Box 8489\\nAPO AA 42991-3352</td>\n",
       "    </tr>\n",
       "    <tr>\n",
       "      <th>4997</th>\n",
       "      <td>63390.686886</td>\n",
       "      <td>7.250591</td>\n",
       "      <td>4.805081</td>\n",
       "      <td>2.13</td>\n",
       "      <td>33266.145490</td>\n",
       "      <td>1.030730e+06</td>\n",
       "      <td>4215 Tracy Garden Suite 076\\nJoshualand, VA 01...</td>\n",
       "    </tr>\n",
       "    <tr>\n",
       "      <th>4998</th>\n",
       "      <td>68001.331235</td>\n",
       "      <td>5.534388</td>\n",
       "      <td>7.130144</td>\n",
       "      <td>5.44</td>\n",
       "      <td>42625.620156</td>\n",
       "      <td>1.198657e+06</td>\n",
       "      <td>USS Wallace\\nFPO AE 73316</td>\n",
       "    </tr>\n",
       "    <tr>\n",
       "      <th>4999</th>\n",
       "      <td>65510.581804</td>\n",
       "      <td>5.992305</td>\n",
       "      <td>6.792336</td>\n",
       "      <td>4.07</td>\n",
       "      <td>46501.283803</td>\n",
       "      <td>1.298950e+06</td>\n",
       "      <td>37778 George Ridges Apt. 509\\nEast Holly, NV 2...</td>\n",
       "    </tr>\n",
       "  </tbody>\n",
       "</table>\n",
       "<p>5000 rows × 7 columns</p>\n",
       "</div>"
      ],
      "text/plain": [
       "      Avg. Area Income  Avg. Area House Age  Avg. Area Number of Rooms  \\\n",
       "0         79545.458574             5.682861                   7.009188   \n",
       "1         79248.642455             6.002900                   6.730821   \n",
       "2         61287.067179             5.865890                   8.512727   \n",
       "3         63345.240046             7.188236                   5.586729   \n",
       "4         59982.197226             5.040555                   7.839388   \n",
       "...                ...                  ...                        ...   \n",
       "4995      60567.944140             7.830362                   6.137356   \n",
       "4996      78491.275435             6.999135                   6.576763   \n",
       "4997      63390.686886             7.250591                   4.805081   \n",
       "4998      68001.331235             5.534388                   7.130144   \n",
       "4999      65510.581804             5.992305                   6.792336   \n",
       "\n",
       "      Avg. Area Number of Bedrooms  Area Population         Price  \\\n",
       "0                             4.09     23086.800503  1.059034e+06   \n",
       "1                             3.09     40173.072174  1.505891e+06   \n",
       "2                             5.13     36882.159400  1.058988e+06   \n",
       "3                             3.26     34310.242831  1.260617e+06   \n",
       "4                             4.23     26354.109472  6.309435e+05   \n",
       "...                            ...              ...           ...   \n",
       "4995                          3.46     22837.361035  1.060194e+06   \n",
       "4996                          4.02     25616.115489  1.482618e+06   \n",
       "4997                          2.13     33266.145490  1.030730e+06   \n",
       "4998                          5.44     42625.620156  1.198657e+06   \n",
       "4999                          4.07     46501.283803  1.298950e+06   \n",
       "\n",
       "                                                Address  \n",
       "0     208 Michael Ferry Apt. 674\\nLaurabury, NE 3701...  \n",
       "1     188 Johnson Views Suite 079\\nLake Kathleen, CA...  \n",
       "2     9127 Elizabeth Stravenue\\nDanieltown, WI 06482...  \n",
       "3                             USS Barnett\\nFPO AP 44820  \n",
       "4                            USNS Raymond\\nFPO AE 09386  \n",
       "...                                                 ...  \n",
       "4995                   USNS Williams\\nFPO AP 30153-7653  \n",
       "4996              PSC 9258, Box 8489\\nAPO AA 42991-3352  \n",
       "4997  4215 Tracy Garden Suite 076\\nJoshualand, VA 01...  \n",
       "4998                          USS Wallace\\nFPO AE 73316  \n",
       "4999  37778 George Ridges Apt. 509\\nEast Holly, NV 2...  \n",
       "\n",
       "[5000 rows x 7 columns]"
      ]
     },
     "execution_count": 2,
     "metadata": {},
     "output_type": "execute_result"
    }
   ],
   "source": [
    "house = pd.read_csv('USA_Housing.csv')\n",
    "house"
   ]
  },
  {
   "cell_type": "markdown",
   "id": "1f665990",
   "metadata": {},
   "source": [
    "Here is the list of questions:\n",
    "\n",
    "1. **Do older houses tend to be more or less expensive compared to newer ones?**\n",
    "2. **What is the distribution of house sizes (e.g., square footage, number of bedrooms)?**\n",
    "3. **Are there any seasonal trends in housing prices?**\n",
    "4. **How does the number of bedrooms/bathrooms influence house prices?**\n",
    "5. **What are the most expensive and least expensive areas?**\n",
    "6. **What is the relationship between house prices and property taxes?**\n",
    "7. **How do house prices vary based on proximity to amenities (e.g., schools, parks, public transportation)?**\n",
    "8. **Are there any outliers in the dataset?**\n",
    "9. **What are the trends in the housing market over time?**\n",
    "10. **How does the lot size affect house prices?**\n",
    "11. **Is there a difference in house prices based on the type of home (e.g., single-family, townhouse, condo)?**\n",
    "12. **What is the impact of economic indicators (e.g., unemployment rate, median income) on house prices?**"
   ]
  },
  {
   "cell_type": "markdown",
   "id": "e52994d7",
   "metadata": {},
   "source": [
    "# - Understanding the data"
   ]
  },
  {
   "cell_type": "markdown",
   "id": "0b4861ed",
   "metadata": {},
   "source": [
    "## - Here are two type of columns \n",
    "### - 1. Numerical (Avg. Area Income , Avg. Area House Age , Avg. Area Number of Rooms , Avg. Area Number of Bedrooms , Area Population , Price\t)\n",
    "### - 2. Categorical (Address)"
   ]
  },
  {
   "cell_type": "markdown",
   "id": "49996409",
   "metadata": {},
   "source": [
    "# - Univiriate Analysis start from Avg. Area Income"
   ]
  },
  {
   "cell_type": "code",
   "execution_count": 3,
   "id": "394d0760",
   "metadata": {},
   "outputs": [
    {
     "data": {
      "text/plain": [
       "count      5000.000000\n",
       "mean      68583.108984\n",
       "std       10657.991214\n",
       "min       17796.631190\n",
       "25%       61480.562388\n",
       "50%       68804.286404\n",
       "75%       75783.338666\n",
       "max      107701.748378\n",
       "Name: Avg. Area Income, dtype: float64"
      ]
     },
     "execution_count": 3,
     "metadata": {},
     "output_type": "execute_result"
    }
   ],
   "source": [
    "house['Avg. Area Income'].describe()"
   ]
  },
  {
   "cell_type": "code",
   "execution_count": 4,
   "id": "60b396f3",
   "metadata": {
    "scrolled": true
   },
   "outputs": [
    {
     "name": "stdout",
     "output_type": "stream",
     "text": [
      "<class 'pandas.core.series.Series'>\n",
      "RangeIndex: 5000 entries, 0 to 4999\n",
      "Series name: Avg. Area Income\n",
      "Non-Null Count  Dtype  \n",
      "--------------  -----  \n",
      "5000 non-null   float64\n",
      "dtypes: float64(1)\n",
      "memory usage: 39.2 KB\n"
     ]
    }
   ],
   "source": [
    "house['Avg. Area Income'].info()"
   ]
  },
  {
   "cell_type": "code",
   "execution_count": 5,
   "id": "4333dce7",
   "metadata": {},
   "outputs": [
    {
     "data": {
      "text/plain": [
       "0"
      ]
     },
     "execution_count": 5,
     "metadata": {},
     "output_type": "execute_result"
    }
   ],
   "source": [
    "house['Avg. Area Income'].isnull().sum()"
   ]
  },
  {
   "cell_type": "code",
   "execution_count": 6,
   "id": "50c54c65",
   "metadata": {},
   "outputs": [
    {
     "data": {
      "text/plain": [
       "<Axes: ylabel='Frequency'>"
      ]
     },
     "execution_count": 6,
     "metadata": {},
     "output_type": "execute_result"
    },
    {
     "data": {
      "image/png": "[encoded data removed]",
      "text/plain": [
       "<Figure size 640x480 with 1 Axes>"
      ]
     },
     "metadata": {},
     "output_type": "display_data"
    }
   ],
   "source": [
    "house['Avg. Area Income'].plot(kind='hist')"
   ]
  },
  {
   "cell_type": "code",
   "execution_count": 7,
   "id": "99db3756",
   "metadata": {},
   "outputs": [
    {
     "data": {
      "text/plain": [
       "<Axes: ylabel='Density'>"
      ]
     },
     "execution_count": 7,
     "metadata": {},
     "output_type": "execute_result"
    },
    {
     "data": {
      "image/png": "[encoded data removed]",
      "text/plain": [
       "<Figure size 640x480 with 1 Axes>"
      ]
     },
     "metadata": {},
     "output_type": "display_data"
    }
   ],
   "source": [
    "house['Avg. Area Income'].plot(kind='kde')"
   ]
  },
  {
   "cell_type": "code",
   "execution_count": 9,
   "id": "24c16b9b",
   "metadata": {},
   "outputs": [
    {
     "data": {
      "text/plain": [
       "<Axes: >"
      ]
     },
     "execution_count": 9,
     "metadata": {},
     "output_type": "execute_result"
    },
    {
     "data": {
      "image/png": "[encoded data removed]",
      "text/plain": [
       "<Figure size 640x480 with 1 Axes>"
      ]
     },
     "metadata": {},
     "output_type": "display_data"
    }
   ],
   "source": [
    "house['Avg. Area Income'].plot(kind='box')"
   ]
  },
  {
   "cell_type": "markdown",
   "id": "70dc8cf0",
   "metadata": {},
   "source": [
    "# - So it means that there are amount of outliers"
   ]
  },
  {
   "cell_type": "code",
   "execution_count": 10,
   "id": "7bd7b87f",
   "metadata": {},
   "outputs": [
    {
     "data": {
      "text/plain": [
       "-0.03371997540427538"
      ]
     },
     "execution_count": 10,
     "metadata": {},
     "output_type": "execute_result"
    }
   ],
   "source": [
    "house['Avg. Area Income'].skew()"
   ]
  },
  {
   "cell_type": "markdown",
   "id": "f797fcbb",
   "metadata": {},
   "source": [
    "# CONCLUSION:\n",
    "## - There are a little amount of skewness\n",
    "## - There are a huge amount of outliers\n",
    "## - It don't have null values"
   ]
  },
  {
   "cell_type": "markdown",
   "id": "c29829a7",
   "metadata": {},
   "source": [
    "# - Now on Avg. Area House Age"
   ]
  },
  {
   "cell_type": "code",
   "execution_count": 29,
   "id": "0e27dab3",
   "metadata": {},
   "outputs": [
    {
     "data": {
      "text/plain": [
       "count    5000.000000\n",
       "mean        5.977222\n",
       "std         0.991456\n",
       "min         2.644304\n",
       "25%         5.322283\n",
       "50%         5.970429\n",
       "75%         6.650808\n",
       "max         9.519088\n",
       "Name: Avg. Area House Age, dtype: float64"
      ]
     },
     "execution_count": 29,
     "metadata": {},
     "output_type": "execute_result"
    }
   ],
   "source": [
    "house['Avg. Area House Age'].describe()"
   ]
  },
  {
   "cell_type": "code",
   "execution_count": 31,
   "id": "189c6a55",
   "metadata": {},
   "outputs": [
    {
     "name": "stdout",
     "output_type": "stream",
     "text": [
      "<class 'pandas.core.series.Series'>\n",
      "RangeIndex: 5000 entries, 0 to 4999\n",
      "Series name: Avg. Area House Age\n",
      "Non-Null Count  Dtype  \n",
      "--------------  -----  \n",
      "5000 non-null   float64\n",
      "dtypes: float64(1)\n",
      "memory usage: 39.2 KB\n"
     ]
    }
   ],
   "source": [
    "house['Avg. Area House Age'].info()"
   ]
  },
  {
   "cell_type": "code",
   "execution_count": 32,
   "id": "4a3add64",
   "metadata": {},
   "outputs": [
    {
     "data": {
      "text/plain": [
       "0"
      ]
     },
     "execution_count": 32,
     "metadata": {},
     "output_type": "execute_result"
    }
   ],
   "source": [
    "house['Avg. Area House Age'].isnull().sum()"
   ]
  },
  {
   "cell_type": "code",
   "execution_count": 33,
   "id": "af4a9a89",
   "metadata": {},
   "outputs": [
    {
     "data": {
      "text/plain": [
       "<Axes: ylabel='Frequency'>"
      ]
     },
     "execution_count": 33,
     "metadata": {},
     "output_type": "execute_result"
    },
    {
     "data": {
      "image/png": "[encoded data removed]",
      "text/plain": [
       "<Figure size 640x480 with 1 Axes>"
      ]
     },
     "metadata": {},
     "output_type": "display_data"
    }
   ],
   "source": [
    "house['Avg. Area House Age'].plot(kind='hist')"
   ]
  },
  {
   "cell_type": "code",
   "execution_count": 34,
   "id": "a13a0a6a",
   "metadata": {
    "scrolled": true
   },
   "outputs": [
    {
     "data": {
      "text/plain": [
       "9.51908806613594"
      ]
     },
     "execution_count": 34,
     "metadata": {},
     "output_type": "execute_result"
    }
   ],
   "source": [
    "house['Avg. Area House Age'].max()"
   ]
  },
  {
   "cell_type": "code",
   "execution_count": 35,
   "id": "9e2bc26b",
   "metadata": {},
   "outputs": [
    {
     "data": {
      "text/plain": [
       "2.644304186036705"
      ]
     },
     "execution_count": 35,
     "metadata": {},
     "output_type": "execute_result"
    }
   ],
   "source": [
    "house['Avg. Area House Age'].min()"
   ]
  },
  {
   "cell_type": "code",
   "execution_count": 36,
   "id": "f3e98cbf",
   "metadata": {},
   "outputs": [
    {
     "data": {
      "text/plain": [
       "<Axes: ylabel='Density'>"
      ]
     },
     "execution_count": 36,
     "metadata": {},
     "output_type": "execute_result"
    },
    {
     "data": {
      "image/png": "[encoded data removed]",
      "text/plain": [
       "<Figure size 640x480 with 1 Axes>"
      ]
     },
     "metadata": {},
     "output_type": "display_data"
    }
   ],
   "source": [
    "house['Avg. Area House Age'].plot(kind='kde')"
   ]
  },
  {
   "cell_type": "code",
   "execution_count": 37,
   "id": "a3839a2f",
   "metadata": {},
   "outputs": [
    {
     "data": {
      "text/plain": [
       "<Axes: >"
      ]
     },
     "execution_count": 37,
     "metadata": {},
     "output_type": "execute_result"
    },
    {
     "data": {
      "image/png": "[encoded data removed]",
      "text/plain": [
       "<Figure size 640x480 with 1 Axes>"
      ]
     },
     "metadata": {},
     "output_type": "display_data"
    }
   ],
   "source": [
    "house['Avg. Area House Age'].plot(kind='box')"
   ]
  },
  {
   "cell_type": "markdown",
   "id": "d91347b7",
   "metadata": {},
   "source": [
    "# - So it is showing some outliers. but it fine "
   ]
  },
  {
   "cell_type": "code",
   "execution_count": 38,
   "id": "d94793ba",
   "metadata": {},
   "outputs": [
    {
     "data": {
      "text/plain": [
       "-0.007213872365817384"
      ]
     },
     "execution_count": 38,
     "metadata": {},
     "output_type": "execute_result"
    }
   ],
   "source": [
    "house['Avg. Area House Age'].skew()"
   ]
  },
  {
   "cell_type": "markdown",
   "id": "accf3460",
   "metadata": {},
   "source": [
    "# CONCLUSION:\n",
    "## - It don't have skewness\n",
    "## - It is showing outliers, but it is fine. the oldest house is (9.51908806613594) and the newest is (2.644304186036705)\n",
    "## - More amout of houses that are between 4.5 to 7.5 or 7 years old"
   ]
  },
  {
   "cell_type": "markdown",
   "id": "375fdac1",
   "metadata": {},
   "source": [
    "# - Now on Avg. Area Number of Rooms"
   ]
  },
  {
   "cell_type": "code",
   "execution_count": 41,
   "id": "5d9845a1",
   "metadata": {},
   "outputs": [
    {
     "data": {
      "text/plain": [
       "count    5000.000000\n",
       "mean        6.987792\n",
       "std         1.005833\n",
       "min         3.236194\n",
       "25%         6.299250\n",
       "50%         7.002902\n",
       "75%         7.665871\n",
       "max        10.759588\n",
       "Name: Avg. Area Number of Rooms, dtype: float64"
      ]
     },
     "execution_count": 41,
     "metadata": {},
     "output_type": "execute_result"
    }
   ],
   "source": [
    "house['Avg. Area Number of Rooms'].describe()"
   ]
  },
  {
   "cell_type": "code",
   "execution_count": 42,
   "id": "9bb09322",
   "metadata": {},
   "outputs": [
    {
     "name": "stdout",
     "output_type": "stream",
     "text": [
      "<class 'pandas.core.series.Series'>\n",
      "RangeIndex: 5000 entries, 0 to 4999\n",
      "Series name: Avg. Area Number of Rooms\n",
      "Non-Null Count  Dtype  \n",
      "--------------  -----  \n",
      "5000 non-null   float64\n",
      "dtypes: float64(1)\n",
      "memory usage: 39.2 KB\n"
     ]
    }
   ],
   "source": [
    "house['Avg. Area Number of Rooms'].info()"
   ]
  },
  {
   "cell_type": "code",
   "execution_count": 43,
   "id": "96a49f6d",
   "metadata": {},
   "outputs": [
    {
     "data": {
      "text/plain": [
       "0"
      ]
     },
     "execution_count": 43,
     "metadata": {},
     "output_type": "execute_result"
    }
   ],
   "source": [
    "house['Avg. Area Number of Rooms'].isnull().sum()"
   ]
  },
  {
   "cell_type": "code",
   "execution_count": 44,
   "id": "4400696b",
   "metadata": {},
   "outputs": [
    {
     "data": {
      "text/plain": [
       "<Axes: ylabel='Frequency'>"
      ]
     },
     "execution_count": 44,
     "metadata": {},
     "output_type": "execute_result"
    },
    {
     "data": {
      "image/png": "[encoded data removed]",
      "text/plain": [
       "<Figure size 640x480 with 1 Axes>"
      ]
     },
     "metadata": {},
     "output_type": "display_data"
    }
   ],
   "source": [
    "house['Avg. Area Number of Rooms'].plot(kind='hist')"
   ]
  },
  {
   "cell_type": "code",
   "execution_count": 45,
   "id": "42ca5787",
   "metadata": {},
   "outputs": [
    {
     "data": {
      "text/plain": [
       "<Axes: ylabel='Density'>"
      ]
     },
     "execution_count": 45,
     "metadata": {},
     "output_type": "execute_result"
    },
    {
     "data": {
      "image/png": "[encoded data removed]",
      "text/plain": [
       "<Figure size 640x480 with 1 Axes>"
      ]
     },
     "metadata": {},
     "output_type": "display_data"
    }
   ],
   "source": [
    "house['Avg. Area Number of Rooms'].plot(kind='kde')"
   ]
  },
  {
   "cell_type": "code",
   "execution_count": 46,
   "id": "62fa3edc",
   "metadata": {},
   "outputs": [
    {
     "data": {
      "text/plain": [
       "-0.04099591018006094"
      ]
     },
     "execution_count": 46,
     "metadata": {},
     "output_type": "execute_result"
    }
   ],
   "source": [
    "house['Avg. Area Number of Rooms'].skew()"
   ]
  },
  {
   "cell_type": "markdown",
   "id": "a6093200",
   "metadata": {},
   "source": [
    "# CONCLUSION:\n",
    "## - It don't have skewnesss\n",
    "## - The number of houses that contain 5 to 8 rooms is more\n",
    "## - A little amount of 3-4 and 9-10 rooms"
   ]
  },
  {
   "cell_type": "markdown",
   "id": "5535b631",
   "metadata": {},
   "source": [
    "# - Now for Avg. Area Number of Bedrooms"
   ]
  },
  {
   "cell_type": "code",
   "execution_count": 49,
   "id": "2f5596e2",
   "metadata": {},
   "outputs": [
    {
     "data": {
      "text/plain": [
       "count    5000.000000\n",
       "mean        3.981330\n",
       "std         1.234137\n",
       "min         2.000000\n",
       "25%         3.140000\n",
       "50%         4.050000\n",
       "75%         4.490000\n",
       "max         6.500000\n",
       "Name: Avg. Area Number of Bedrooms, dtype: float64"
      ]
     },
     "execution_count": 49,
     "metadata": {},
     "output_type": "execute_result"
    }
   ],
   "source": [
    "house['Avg. Area Number of Bedrooms'].describe()"
   ]
  },
  {
   "cell_type": "code",
   "execution_count": 50,
   "id": "d2ed1a23",
   "metadata": {},
   "outputs": [
    {
     "name": "stdout",
     "output_type": "stream",
     "text": [
      "<class 'pandas.core.series.Series'>\n",
      "RangeIndex: 5000 entries, 0 to 4999\n",
      "Series name: Avg. Area Number of Bedrooms\n",
      "Non-Null Count  Dtype  \n",
      "--------------  -----  \n",
      "5000 non-null   float64\n",
      "dtypes: float64(1)\n",
      "memory usage: 39.2 KB\n"
     ]
    }
   ],
   "source": [
    "house['Avg. Area Number of Bedrooms'].info()"
   ]
  },
  {
   "cell_type": "code",
   "execution_count": 51,
   "id": "cab98684",
   "metadata": {},
   "outputs": [
    {
     "data": {
      "text/plain": [
       "0"
      ]
     },
     "execution_count": 51,
     "metadata": {},
     "output_type": "execute_result"
    }
   ],
   "source": [
    "house['Avg. Area Number of Bedrooms'].isnull().sum()"
   ]
  },
  {
   "cell_type": "code",
   "execution_count": 52,
   "id": "9ac697fc",
   "metadata": {},
   "outputs": [
    {
     "data": {
      "text/plain": [
       "<Axes: ylabel='Frequency'>"
      ]
     },
     "execution_count": 52,
     "metadata": {},
     "output_type": "execute_result"
    },
    {
     "data": {
      "image/png": "[encoded data removed]",
      "text/plain": [
       "<Figure size 640x480 with 1 Axes>"
      ]
     },
     "metadata": {},
     "output_type": "display_data"
    }
   ],
   "source": [
    "house['Avg. Area Number of Bedrooms'].plot(kind='hist')"
   ]
  },
  {
   "cell_type": "code",
   "execution_count": 53,
   "id": "575d854e",
   "metadata": {},
   "outputs": [
    {
     "data": {
      "text/plain": [
       "<Axes: ylabel='Density'>"
      ]
     },
     "execution_count": 53,
     "metadata": {},
     "output_type": "execute_result"
    },
    {
     "data": {
      "image/png": "[encoded data removed]",
      "text/plain": [
       "<Figure size 640x480 with 1 Axes>"
      ]
     },
     "metadata": {},
     "output_type": "display_data"
    }
   ],
   "source": [
    "house['Avg. Area Number of Bedrooms'].plot(kind='kde')"
   ]
  },
  {
   "cell_type": "code",
   "execution_count": 54,
   "id": "c31e362c",
   "metadata": {},
   "outputs": [
    {
     "data": {
      "text/plain": [
       "0.37624039721554303"
      ]
     },
     "execution_count": 54,
     "metadata": {},
     "output_type": "execute_result"
    }
   ],
   "source": [
    "house['Avg. Area Number of Bedrooms'].skew()"
   ]
  },
  {
   "cell_type": "code",
   "execution_count": 55,
   "id": "b1afef96",
   "metadata": {},
   "outputs": [
    {
     "data": {
      "text/plain": [
       "6.5"
      ]
     },
     "execution_count": 55,
     "metadata": {},
     "output_type": "execute_result"
    }
   ],
   "source": [
    "house['Avg. Area Number of Bedrooms'].max()"
   ]
  },
  {
   "cell_type": "code",
   "execution_count": 56,
   "id": "200c0e64",
   "metadata": {},
   "outputs": [
    {
     "data": {
      "text/plain": [
       "2.0"
      ]
     },
     "execution_count": 56,
     "metadata": {},
     "output_type": "execute_result"
    }
   ],
   "source": [
    "house['Avg. Area Number of Bedrooms'].min()"
   ]
  },
  {
   "cell_type": "markdown",
   "id": "c77b565e",
   "metadata": {},
   "source": [
    "# CONCLUSION:\n",
    "## - The area of number of bedrooms is different\n",
    "## - The maximum area is 6.5 and the minimum  is 2.0\n",
    "## - It don't have skewness\n",
    "## - the house which contain 3 or 4 rooms. that has high area"
   ]
  },
  {
   "cell_type": "markdown",
   "id": "7e513ba4",
   "metadata": {},
   "source": [
    "# - Now Area Population"
   ]
  },
  {
   "cell_type": "code",
   "execution_count": 12,
   "id": "3213467b",
   "metadata": {
    "scrolled": false
   },
   "outputs": [
    {
     "data": {
      "text/plain": [
       "count     5000.000000\n",
       "mean     36163.516039\n",
       "std       9925.650114\n",
       "min        172.610686\n",
       "25%      29403.928702\n",
       "50%      36199.406689\n",
       "75%      42861.290769\n",
       "max      69621.713378\n",
       "Name: Area Population, dtype: float64"
      ]
     },
     "execution_count": 12,
     "metadata": {},
     "output_type": "execute_result"
    }
   ],
   "source": [
    "house['Area Population'].describe()"
   ]
  },
  {
   "cell_type": "code",
   "execution_count": 13,
   "id": "cd5affe4",
   "metadata": {
    "scrolled": true
   },
   "outputs": [
    {
     "name": "stdout",
     "output_type": "stream",
     "text": [
      "<class 'pandas.core.series.Series'>\n",
      "RangeIndex: 5000 entries, 0 to 4999\n",
      "Series name: Area Population\n",
      "Non-Null Count  Dtype  \n",
      "--------------  -----  \n",
      "5000 non-null   float64\n",
      "dtypes: float64(1)\n",
      "memory usage: 39.2 KB\n"
     ]
    }
   ],
   "source": [
    "house['Area Population'].info()"
   ]
  },
  {
   "cell_type": "code",
   "execution_count": 19,
   "id": "2f7d24fb",
   "metadata": {},
   "outputs": [
    {
     "data": {
      "text/plain": [
       "0"
      ]
     },
     "execution_count": 19,
     "metadata": {},
     "output_type": "execute_result"
    }
   ],
   "source": [
    "house['Area Population'].isnull().sum()"
   ]
  },
  {
   "cell_type": "code",
   "execution_count": 14,
   "id": "c2e3c1a8",
   "metadata": {},
   "outputs": [
    {
     "data": {
      "text/plain": [
       "<Axes: ylabel='Frequency'>"
      ]
     },
     "execution_count": 14,
     "metadata": {},
     "output_type": "execute_result"
    },
    {
     "data": {
      "image/png": "[encoded data removed]",
      "text/plain": [
       "<Figure size 640x480 with 1 Axes>"
      ]
     },
     "metadata": {},
     "output_type": "display_data"
    }
   ],
   "source": [
    "house['Area Population'].plot(kind='hist')"
   ]
  },
  {
   "cell_type": "code",
   "execution_count": 15,
   "id": "f728f1db",
   "metadata": {},
   "outputs": [
    {
     "data": {
      "text/plain": [
       "<Axes: ylabel='Density'>"
      ]
     },
     "execution_count": 15,
     "metadata": {},
     "output_type": "execute_result"
    },
    {
     "data": {
      "image/png": "[encoded data removed]",
      "text/plain": [
       "<Figure size 640x480 with 1 Axes>"
      ]
     },
     "metadata": {},
     "output_type": "display_data"
    }
   ],
   "source": [
    "house['Area Population'].plot(kind='kde')"
   ]
  },
  {
   "cell_type": "code",
   "execution_count": 16,
   "id": "fb1cf836",
   "metadata": {},
   "outputs": [
    {
     "data": {
      "text/plain": [
       "<Axes: >"
      ]
     },
     "execution_count": 16,
     "metadata": {},
     "output_type": "execute_result"
    },
    {
     "data": {
      "image/png": "[encoded data removed]",
      "text/plain": [
       "<Figure size 640x480 with 1 Axes>"
      ]
     },
     "metadata": {},
     "output_type": "display_data"
    }
   ],
   "source": [
    "house['Area Population'].plot(kind='box')"
   ]
  },
  {
   "cell_type": "code",
   "execution_count": 17,
   "id": "ac944f83",
   "metadata": {},
   "outputs": [
    {
     "data": {
      "text/plain": [
       "0.05064968153215056"
      ]
     },
     "execution_count": 17,
     "metadata": {},
     "output_type": "execute_result"
    }
   ],
   "source": [
    "house['Area Population'].skew()"
   ]
  },
  {
   "cell_type": "markdown",
   "id": "9e46f069",
   "metadata": {},
   "source": [
    "# CONCLUSION:\n",
    "## - The minimum population is 172.610686. and the maximum is  69621.713378\n",
    "## - 25000 to 50,000 population is near that 1000 to 1400 houses\n",
    "## - There are some outliers because of minimum population but its ok and maximum population which is around 70k\n",
    "## - It don't have skewness"
   ]
  },
  {
   "cell_type": "markdown",
   "id": "bad0e802",
   "metadata": {},
   "source": [
    "# Now for price"
   ]
  },
  {
   "cell_type": "code",
   "execution_count": 21,
   "id": "71829037",
   "metadata": {},
   "outputs": [
    {
     "data": {
      "text/plain": [
       "count    5.000000e+03\n",
       "mean     1.232073e+06\n",
       "std      3.531176e+05\n",
       "min      1.593866e+04\n",
       "25%      9.975771e+05\n",
       "50%      1.232669e+06\n",
       "75%      1.471210e+06\n",
       "max      2.469066e+06\n",
       "Name: Price, dtype: float64"
      ]
     },
     "execution_count": 21,
     "metadata": {},
     "output_type": "execute_result"
    }
   ],
   "source": [
    "house['Price'].describe()"
   ]
  },
  {
   "cell_type": "code",
   "execution_count": 22,
   "id": "bd5c9f38",
   "metadata": {},
   "outputs": [
    {
     "name": "stdout",
     "output_type": "stream",
     "text": [
      "<class 'pandas.core.series.Series'>\n",
      "RangeIndex: 5000 entries, 0 to 4999\n",
      "Series name: Price\n",
      "Non-Null Count  Dtype  \n",
      "--------------  -----  \n",
      "5000 non-null   float64\n",
      "dtypes: float64(1)\n",
      "memory usage: 39.2 KB\n"
     ]
    }
   ],
   "source": [
    "house['Price'].info()"
   ]
  },
  {
   "cell_type": "code",
   "execution_count": 23,
   "id": "29b776e3",
   "metadata": {},
   "outputs": [
    {
     "data": {
      "text/plain": [
       "<Axes: ylabel='Frequency'>"
      ]
     },
     "execution_count": 23,
     "metadata": {},
     "output_type": "execute_result"
    },
    {
     "data": {
      "image/png": "[encoded data removed]",
      "text/plain": [
       "<Figure size 640x480 with 1 Axes>"
      ]
     },
     "metadata": {},
     "output_type": "display_data"
    }
   ],
   "source": [
    "house['Price'].plot(kind='hist')"
   ]
  },
  {
   "cell_type": "code",
   "execution_count": 24,
   "id": "290481d6",
   "metadata": {},
   "outputs": [
    {
     "data": {
      "text/plain": [
       "<Axes: ylabel='Density'>"
      ]
     },
     "execution_count": 24,
     "metadata": {},
     "output_type": "execute_result"
    },
    {
     "data": {
      "image/png": "[encoded data removed]",
      "text/plain": [
       "<Figure size 640x480 with 1 Axes>"
      ]
     },
     "metadata": {},
     "output_type": "display_data"
    }
   ],
   "source": [
    "house['Price'].plot(kind='kde')"
   ]
  },
  {
   "cell_type": "code",
   "execution_count": 25,
   "id": "38a96658",
   "metadata": {},
   "outputs": [
    {
     "data": {
      "text/plain": [
       "<Axes: >"
      ]
     },
     "execution_count": 25,
     "metadata": {},
     "output_type": "execute_result"
    },
    {
     "data": {
      "image/png": "[encoded data removed]",
      "text/plain": [
       "<Figure size 640x480 with 1 Axes>"
      ]
     },
     "metadata": {},
     "output_type": "display_data"
    }
   ],
   "source": [
    "house['Price'].plot(kind='box')"
   ]
  },
  {
   "cell_type": "code",
   "execution_count": 26,
   "id": "5d891db9",
   "metadata": {},
   "outputs": [
    {
     "data": {
      "text/plain": [
       "-0.002718064933559366"
      ]
     },
     "execution_count": 26,
     "metadata": {},
     "output_type": "execute_result"
    }
   ],
   "source": [
    "house['Price'].skew()"
   ]
  },
  {
   "cell_type": "markdown",
   "id": "cd4cc1c8",
   "metadata": {},
   "source": [
    "# CONCLUSION:\n",
    "## - So the houses that contain 5 to 6 rooms. and as you know that room are not that big and not that small. And that houses which have average area and average population price is quite high. The price range and average values suggest that such houses could indeed be priced on the higher end, especially when considering the mean price of around 1.23 million in the dataset."
   ]
  },
  {
   "cell_type": "markdown",
   "id": "8e1d3b39",
   "metadata": {},
   "source": [
    "# - Now the Address"
   ]
  },
  {
   "cell_type": "markdown",
   "id": "6c5e8e48",
   "metadata": {},
   "source": [
    "## - There are infinite unique values in the Address. and we can't find anything in it so we'll simply drom this colums"
   ]
  },
  {
   "cell_type": "code",
   "execution_count": 60,
   "id": "1c01d231",
   "metadata": {
    "scrolled": false
   },
   "outputs": [],
   "source": [
    "house.drop(['Address'] , axis=1 , inplace=True)"
   ]
  },
  {
   "cell_type": "code",
   "execution_count": 61,
   "id": "f1e21e3d",
   "metadata": {},
   "outputs": [
    {
     "data": {
      "text/html": [
       "<div>\n",
       "<style scoped>\n",
       "    .dataframe tbody tr th:only-of-type {\n",
       "        vertical-align: middle;\n",
       "    }\n",
       "\n",
       "    .dataframe tbody tr th {\n",
       "        vertical-align: top;\n",
       "    }\n",
       "\n",
       "    .dataframe thead th {\n",
       "        text-align: right;\n",
       "    }\n",
       "</style>\n",
       "<table border=\"1\" class=\"dataframe\">\n",
       "  <thead>\n",
       "    <tr style=\"text-align: right;\">\n",
       "      <th></th>\n",
       "      <th>Avg. Area Income</th>\n",
       "      <th>Avg. Area House Age</th>\n",
       "      <th>Avg. Area Number of Rooms</th>\n",
       "      <th>Avg. Area Number of Bedrooms</th>\n",
       "      <th>Area Population</th>\n",
       "      <th>Price</th>\n",
       "    </tr>\n",
       "  </thead>\n",
       "  <tbody>\n",
       "    <tr>\n",
       "      <th>0</th>\n",
       "      <td>79545.458574</td>\n",
       "      <td>5.682861</td>\n",
       "      <td>7.009188</td>\n",
       "      <td>4.09</td>\n",
       "      <td>23086.800503</td>\n",
       "      <td>1.059034e+06</td>\n",
       "    </tr>\n",
       "    <tr>\n",
       "      <th>1</th>\n",
       "      <td>79248.642455</td>\n",
       "      <td>6.002900</td>\n",
       "      <td>6.730821</td>\n",
       "      <td>3.09</td>\n",
       "      <td>40173.072174</td>\n",
       "      <td>1.505891e+06</td>\n",
       "    </tr>\n",
       "    <tr>\n",
       "      <th>2</th>\n",
       "      <td>61287.067179</td>\n",
       "      <td>5.865890</td>\n",
       "      <td>8.512727</td>\n",
       "      <td>5.13</td>\n",
       "      <td>36882.159400</td>\n",
       "      <td>1.058988e+06</td>\n",
       "    </tr>\n",
       "    <tr>\n",
       "      <th>3</th>\n",
       "      <td>63345.240046</td>\n",
       "      <td>7.188236</td>\n",
       "      <td>5.586729</td>\n",
       "      <td>3.26</td>\n",
       "      <td>34310.242831</td>\n",
       "      <td>1.260617e+06</td>\n",
       "    </tr>\n",
       "    <tr>\n",
       "      <th>4</th>\n",
       "      <td>59982.197226</td>\n",
       "      <td>5.040555</td>\n",
       "      <td>7.839388</td>\n",
       "      <td>4.23</td>\n",
       "      <td>26354.109472</td>\n",
       "      <td>6.309435e+05</td>\n",
       "    </tr>\n",
       "    <tr>\n",
       "      <th>...</th>\n",
       "      <td>...</td>\n",
       "      <td>...</td>\n",
       "      <td>...</td>\n",
       "      <td>...</td>\n",
       "      <td>...</td>\n",
       "      <td>...</td>\n",
       "    </tr>\n",
       "    <tr>\n",
       "      <th>4995</th>\n",
       "      <td>60567.944140</td>\n",
       "      <td>7.830362</td>\n",
       "      <td>6.137356</td>\n",
       "      <td>3.46</td>\n",
       "      <td>22837.361035</td>\n",
       "      <td>1.060194e+06</td>\n",
       "    </tr>\n",
       "    <tr>\n",
       "      <th>4996</th>\n",
       "      <td>78491.275435</td>\n",
       "      <td>6.999135</td>\n",
       "      <td>6.576763</td>\n",
       "      <td>4.02</td>\n",
       "      <td>25616.115489</td>\n",
       "      <td>1.482618e+06</td>\n",
       "    </tr>\n",
       "    <tr>\n",
       "      <th>4997</th>\n",
       "      <td>63390.686886</td>\n",
       "      <td>7.250591</td>\n",
       "      <td>4.805081</td>\n",
       "      <td>2.13</td>\n",
       "      <td>33266.145490</td>\n",
       "      <td>1.030730e+06</td>\n",
       "    </tr>\n",
       "    <tr>\n",
       "      <th>4998</th>\n",
       "      <td>68001.331235</td>\n",
       "      <td>5.534388</td>\n",
       "      <td>7.130144</td>\n",
       "      <td>5.44</td>\n",
       "      <td>42625.620156</td>\n",
       "      <td>1.198657e+06</td>\n",
       "    </tr>\n",
       "    <tr>\n",
       "      <th>4999</th>\n",
       "      <td>65510.581804</td>\n",
       "      <td>5.992305</td>\n",
       "      <td>6.792336</td>\n",
       "      <td>4.07</td>\n",
       "      <td>46501.283803</td>\n",
       "      <td>1.298950e+06</td>\n",
       "    </tr>\n",
       "  </tbody>\n",
       "</table>\n",
       "<p>5000 rows × 6 columns</p>\n",
       "</div>"
      ],
      "text/plain": [
       "      Avg. Area Income  Avg. Area House Age  Avg. Area Number of Rooms  \\\n",
       "0         79545.458574             5.682861                   7.009188   \n",
       "1         79248.642455             6.002900                   6.730821   \n",
       "2         61287.067179             5.865890                   8.512727   \n",
       "3         63345.240046             7.188236                   5.586729   \n",
       "4         59982.197226             5.040555                   7.839388   \n",
       "...                ...                  ...                        ...   \n",
       "4995      60567.944140             7.830362                   6.137356   \n",
       "4996      78491.275435             6.999135                   6.576763   \n",
       "4997      63390.686886             7.250591                   4.805081   \n",
       "4998      68001.331235             5.534388                   7.130144   \n",
       "4999      65510.581804             5.992305                   6.792336   \n",
       "\n",
       "      Avg. Area Number of Bedrooms  Area Population         Price  \n",
       "0                             4.09     23086.800503  1.059034e+06  \n",
       "1                             3.09     40173.072174  1.505891e+06  \n",
       "2                             5.13     36882.159400  1.058988e+06  \n",
       "3                             3.26     34310.242831  1.260617e+06  \n",
       "4                             4.23     26354.109472  6.309435e+05  \n",
       "...                            ...              ...           ...  \n",
       "4995                          3.46     22837.361035  1.060194e+06  \n",
       "4996                          4.02     25616.115489  1.482618e+06  \n",
       "4997                          2.13     33266.145490  1.030730e+06  \n",
       "4998                          5.44     42625.620156  1.198657e+06  \n",
       "4999                          4.07     46501.283803  1.298950e+06  \n",
       "\n",
       "[5000 rows x 6 columns]"
      ]
     },
     "execution_count": 61,
     "metadata": {},
     "output_type": "execute_result"
    }
   ],
   "source": [
    "house"
   ]
  },
  {
   "cell_type": "markdown",
   "id": "a7f39ac9",
   "metadata": {},
   "source": [
    "# - Now biviriate analysis\n",
    "## - I think our most important column is Price"
   ]
  },
  {
   "cell_type": "markdown",
   "id": "783039db",
   "metadata": {},
   "source": [
    "# - Avg. Area Income with Price"
   ]
  },
  {
   "cell_type": "code",
   "execution_count": 62,
   "id": "b3e55806",
   "metadata": {},
   "outputs": [
    {
     "data": {
      "text/html": [
       "<div>\n",
       "<style scoped>\n",
       "    .dataframe tbody tr th:only-of-type {\n",
       "        vertical-align: middle;\n",
       "    }\n",
       "\n",
       "    .dataframe tbody tr th {\n",
       "        vertical-align: top;\n",
       "    }\n",
       "\n",
       "    .dataframe thead th {\n",
       "        text-align: right;\n",
       "    }\n",
       "</style>\n",
       "<table border=\"1\" class=\"dataframe\">\n",
       "  <thead>\n",
       "    <tr style=\"text-align: right;\">\n",
       "      <th>Price</th>\n",
       "      <th>1.593866e+04</th>\n",
       "      <th>3.114052e+04</th>\n",
       "      <th>8.859177e+04</th>\n",
       "      <th>1.430274e+05</th>\n",
       "      <th>1.515271e+05</th>\n",
       "      <th>1.520719e+05</th>\n",
       "      <th>2.018981e+05</th>\n",
       "      <th>2.110180e+05</th>\n",
       "      <th>2.311898e+05</th>\n",
       "      <th>2.393199e+05</th>\n",
       "      <th>...</th>\n",
       "      <th>2.252243e+06</th>\n",
       "      <th>2.271113e+06</th>\n",
       "      <th>2.275455e+06</th>\n",
       "      <th>2.294648e+06</th>\n",
       "      <th>2.298379e+06</th>\n",
       "      <th>2.318286e+06</th>\n",
       "      <th>2.330290e+06</th>\n",
       "      <th>2.332111e+06</th>\n",
       "      <th>2.370231e+06</th>\n",
       "      <th>2.469066e+06</th>\n",
       "    </tr>\n",
       "    <tr>\n",
       "      <th>Avg. Area Income</th>\n",
       "      <th></th>\n",
       "      <th></th>\n",
       "      <th></th>\n",
       "      <th></th>\n",
       "      <th></th>\n",
       "      <th></th>\n",
       "      <th></th>\n",
       "      <th></th>\n",
       "      <th></th>\n",
       "      <th></th>\n",
       "      <th></th>\n",
       "      <th></th>\n",
       "      <th></th>\n",
       "      <th></th>\n",
       "      <th></th>\n",
       "      <th></th>\n",
       "      <th></th>\n",
       "      <th></th>\n",
       "      <th></th>\n",
       "      <th></th>\n",
       "      <th></th>\n",
       "    </tr>\n",
       "  </thead>\n",
       "  <tbody>\n",
       "    <tr>\n",
       "      <th>17796.631190</th>\n",
       "      <td>0</td>\n",
       "      <td>0</td>\n",
       "      <td>0</td>\n",
       "      <td>0</td>\n",
       "      <td>0</td>\n",
       "      <td>0</td>\n",
       "      <td>0</td>\n",
       "      <td>0</td>\n",
       "      <td>0</td>\n",
       "      <td>0</td>\n",
       "      <td>...</td>\n",
       "      <td>0</td>\n",
       "      <td>0</td>\n",
       "      <td>0</td>\n",
       "      <td>0</td>\n",
       "      <td>0</td>\n",
       "      <td>0</td>\n",
       "      <td>0</td>\n",
       "      <td>0</td>\n",
       "      <td>0</td>\n",
       "      <td>0</td>\n",
       "    </tr>\n",
       "    <tr>\n",
       "      <th>35454.714659</th>\n",
       "      <td>0</td>\n",
       "      <td>0</td>\n",
       "      <td>0</td>\n",
       "      <td>0</td>\n",
       "      <td>0</td>\n",
       "      <td>0</td>\n",
       "      <td>0</td>\n",
       "      <td>0</td>\n",
       "      <td>0</td>\n",
       "      <td>0</td>\n",
       "      <td>...</td>\n",
       "      <td>0</td>\n",
       "      <td>0</td>\n",
       "      <td>0</td>\n",
       "      <td>0</td>\n",
       "      <td>0</td>\n",
       "      <td>0</td>\n",
       "      <td>0</td>\n",
       "      <td>0</td>\n",
       "      <td>0</td>\n",
       "      <td>0</td>\n",
       "    </tr>\n",
       "    <tr>\n",
       "      <th>35608.986237</th>\n",
       "      <td>0</td>\n",
       "      <td>0</td>\n",
       "      <td>0</td>\n",
       "      <td>0</td>\n",
       "      <td>0</td>\n",
       "      <td>0</td>\n",
       "      <td>0</td>\n",
       "      <td>0</td>\n",
       "      <td>0</td>\n",
       "      <td>0</td>\n",
       "      <td>...</td>\n",
       "      <td>0</td>\n",
       "      <td>0</td>\n",
       "      <td>0</td>\n",
       "      <td>0</td>\n",
       "      <td>0</td>\n",
       "      <td>0</td>\n",
       "      <td>0</td>\n",
       "      <td>0</td>\n",
       "      <td>0</td>\n",
       "      <td>0</td>\n",
       "    </tr>\n",
       "    <tr>\n",
       "      <th>35797.323122</th>\n",
       "      <td>0</td>\n",
       "      <td>0</td>\n",
       "      <td>0</td>\n",
       "      <td>0</td>\n",
       "      <td>0</td>\n",
       "      <td>0</td>\n",
       "      <td>0</td>\n",
       "      <td>0</td>\n",
       "      <td>0</td>\n",
       "      <td>0</td>\n",
       "      <td>...</td>\n",
       "      <td>0</td>\n",
       "      <td>0</td>\n",
       "      <td>0</td>\n",
       "      <td>0</td>\n",
       "      <td>0</td>\n",
       "      <td>0</td>\n",
       "      <td>0</td>\n",
       "      <td>0</td>\n",
       "      <td>0</td>\n",
       "      <td>0</td>\n",
       "    </tr>\n",
       "    <tr>\n",
       "      <th>35963.330809</th>\n",
       "      <td>0</td>\n",
       "      <td>0</td>\n",
       "      <td>0</td>\n",
       "      <td>1</td>\n",
       "      <td>0</td>\n",
       "      <td>0</td>\n",
       "      <td>0</td>\n",
       "      <td>0</td>\n",
       "      <td>0</td>\n",
       "      <td>0</td>\n",
       "      <td>...</td>\n",
       "      <td>0</td>\n",
       "      <td>0</td>\n",
       "      <td>0</td>\n",
       "      <td>0</td>\n",
       "      <td>0</td>\n",
       "      <td>0</td>\n",
       "      <td>0</td>\n",
       "      <td>0</td>\n",
       "      <td>0</td>\n",
       "      <td>0</td>\n",
       "    </tr>\n",
       "    <tr>\n",
       "      <th>...</th>\n",
       "      <td>...</td>\n",
       "      <td>...</td>\n",
       "      <td>...</td>\n",
       "      <td>...</td>\n",
       "      <td>...</td>\n",
       "      <td>...</td>\n",
       "      <td>...</td>\n",
       "      <td>...</td>\n",
       "      <td>...</td>\n",
       "      <td>...</td>\n",
       "      <td>...</td>\n",
       "      <td>...</td>\n",
       "      <td>...</td>\n",
       "      <td>...</td>\n",
       "      <td>...</td>\n",
       "      <td>...</td>\n",
       "      <td>...</td>\n",
       "      <td>...</td>\n",
       "      <td>...</td>\n",
       "      <td>...</td>\n",
       "      <td>...</td>\n",
       "    </tr>\n",
       "    <tr>\n",
       "      <th>101599.670580</th>\n",
       "      <td>0</td>\n",
       "      <td>0</td>\n",
       "      <td>0</td>\n",
       "      <td>0</td>\n",
       "      <td>0</td>\n",
       "      <td>0</td>\n",
       "      <td>0</td>\n",
       "      <td>0</td>\n",
       "      <td>0</td>\n",
       "      <td>0</td>\n",
       "      <td>...</td>\n",
       "      <td>0</td>\n",
       "      <td>0</td>\n",
       "      <td>0</td>\n",
       "      <td>0</td>\n",
       "      <td>0</td>\n",
       "      <td>0</td>\n",
       "      <td>0</td>\n",
       "      <td>0</td>\n",
       "      <td>1</td>\n",
       "      <td>0</td>\n",
       "    </tr>\n",
       "    <tr>\n",
       "      <th>101928.858060</th>\n",
       "      <td>0</td>\n",
       "      <td>0</td>\n",
       "      <td>0</td>\n",
       "      <td>0</td>\n",
       "      <td>0</td>\n",
       "      <td>0</td>\n",
       "      <td>0</td>\n",
       "      <td>0</td>\n",
       "      <td>0</td>\n",
       "      <td>0</td>\n",
       "      <td>...</td>\n",
       "      <td>0</td>\n",
       "      <td>0</td>\n",
       "      <td>0</td>\n",
       "      <td>0</td>\n",
       "      <td>0</td>\n",
       "      <td>0</td>\n",
       "      <td>0</td>\n",
       "      <td>0</td>\n",
       "      <td>0</td>\n",
       "      <td>0</td>\n",
       "    </tr>\n",
       "    <tr>\n",
       "      <th>102881.120902</th>\n",
       "      <td>0</td>\n",
       "      <td>0</td>\n",
       "      <td>0</td>\n",
       "      <td>0</td>\n",
       "      <td>0</td>\n",
       "      <td>0</td>\n",
       "      <td>0</td>\n",
       "      <td>0</td>\n",
       "      <td>0</td>\n",
       "      <td>0</td>\n",
       "      <td>...</td>\n",
       "      <td>0</td>\n",
       "      <td>0</td>\n",
       "      <td>0</td>\n",
       "      <td>0</td>\n",
       "      <td>0</td>\n",
       "      <td>0</td>\n",
       "      <td>0</td>\n",
       "      <td>0</td>\n",
       "      <td>0</td>\n",
       "      <td>0</td>\n",
       "    </tr>\n",
       "    <tr>\n",
       "      <th>104702.724257</th>\n",
       "      <td>0</td>\n",
       "      <td>0</td>\n",
       "      <td>0</td>\n",
       "      <td>0</td>\n",
       "      <td>0</td>\n",
       "      <td>0</td>\n",
       "      <td>0</td>\n",
       "      <td>0</td>\n",
       "      <td>0</td>\n",
       "      <td>0</td>\n",
       "      <td>...</td>\n",
       "      <td>0</td>\n",
       "      <td>0</td>\n",
       "      <td>0</td>\n",
       "      <td>0</td>\n",
       "      <td>0</td>\n",
       "      <td>0</td>\n",
       "      <td>0</td>\n",
       "      <td>0</td>\n",
       "      <td>0</td>\n",
       "      <td>0</td>\n",
       "    </tr>\n",
       "    <tr>\n",
       "      <th>107701.748378</th>\n",
       "      <td>0</td>\n",
       "      <td>0</td>\n",
       "      <td>0</td>\n",
       "      <td>0</td>\n",
       "      <td>0</td>\n",
       "      <td>0</td>\n",
       "      <td>0</td>\n",
       "      <td>0</td>\n",
       "      <td>0</td>\n",
       "      <td>0</td>\n",
       "      <td>...</td>\n",
       "      <td>0</td>\n",
       "      <td>0</td>\n",
       "      <td>0</td>\n",
       "      <td>0</td>\n",
       "      <td>0</td>\n",
       "      <td>0</td>\n",
       "      <td>0</td>\n",
       "      <td>1</td>\n",
       "      <td>0</td>\n",
       "      <td>0</td>\n",
       "    </tr>\n",
       "  </tbody>\n",
       "</table>\n",
       "<p>5000 rows × 5000 columns</p>\n",
       "</div>"
      ],
      "text/plain": [
       "Price             1.593866e+04  3.114052e+04  8.859177e+04  1.430274e+05  \\\n",
       "Avg. Area Income                                                           \n",
       "17796.631190                 0             0             0             0   \n",
       "35454.714659                 0             0             0             0   \n",
       "35608.986237                 0             0             0             0   \n",
       "35797.323122                 0             0             0             0   \n",
       "35963.330809                 0             0             0             1   \n",
       "...                        ...           ...           ...           ...   \n",
       "101599.670580                0             0             0             0   \n",
       "101928.858060                0             0             0             0   \n",
       "102881.120902                0             0             0             0   \n",
       "104702.724257                0             0             0             0   \n",
       "107701.748378                0             0             0             0   \n",
       "\n",
       "Price             1.515271e+05  1.520719e+05  2.018981e+05  2.110180e+05  \\\n",
       "Avg. Area Income                                                           \n",
       "17796.631190                 0             0             0             0   \n",
       "35454.714659                 0             0             0             0   \n",
       "35608.986237                 0             0             0             0   \n",
       "35797.323122                 0             0             0             0   \n",
       "35963.330809                 0             0             0             0   \n",
       "...                        ...           ...           ...           ...   \n",
       "101599.670580                0             0             0             0   \n",
       "101928.858060                0             0             0             0   \n",
       "102881.120902                0             0             0             0   \n",
       "104702.724257                0             0             0             0   \n",
       "107701.748378                0             0             0             0   \n",
       "\n",
       "Price             2.311898e+05  2.393199e+05  ...  2.252243e+06  2.271113e+06  \\\n",
       "Avg. Area Income                              ...                               \n",
       "17796.631190                 0             0  ...             0             0   \n",
       "35454.714659                 0             0  ...             0             0   \n",
       "35608.986237                 0             0  ...             0             0   \n",
       "35797.323122                 0             0  ...             0             0   \n",
       "35963.330809                 0             0  ...             0             0   \n",
       "...                        ...           ...  ...           ...           ...   \n",
       "101599.670580                0             0  ...             0             0   \n",
       "101928.858060                0             0  ...             0             0   \n",
       "102881.120902                0             0  ...             0             0   \n",
       "104702.724257                0             0  ...             0             0   \n",
       "107701.748378                0             0  ...             0             0   \n",
       "\n",
       "Price             2.275455e+06  2.294648e+06  2.298379e+06  2.318286e+06  \\\n",
       "Avg. Area Income                                                           \n",
       "17796.631190                 0             0             0             0   \n",
       "35454.714659                 0             0             0             0   \n",
       "35608.986237                 0             0             0             0   \n",
       "35797.323122                 0             0             0             0   \n",
       "35963.330809                 0             0             0             0   \n",
       "...                        ...           ...           ...           ...   \n",
       "101599.670580                0             0             0             0   \n",
       "101928.858060                0             0             0             0   \n",
       "102881.120902                0             0             0             0   \n",
       "104702.724257                0             0             0             0   \n",
       "107701.748378                0             0             0             0   \n",
       "\n",
       "Price             2.330290e+06  2.332111e+06  2.370231e+06  2.469066e+06  \n",
       "Avg. Area Income                                                          \n",
       "17796.631190                 0             0             0             0  \n",
       "35454.714659                 0             0             0             0  \n",
       "35608.986237                 0             0             0             0  \n",
       "35797.323122                 0             0             0             0  \n",
       "35963.330809                 0             0             0             0  \n",
       "...                        ...           ...           ...           ...  \n",
       "101599.670580                0             0             1             0  \n",
       "101928.858060                0             0             0             0  \n",
       "102881.120902                0             0             0             0  \n",
       "104702.724257                0             0             0             0  \n",
       "107701.748378                0             1             0             0  \n",
       "\n",
       "[5000 rows x 5000 columns]"
      ]
     },
     "execution_count": 62,
     "metadata": {},
     "output_type": "execute_result"
    }
   ],
   "source": [
    "pd.crosstab(house['Avg. Area Income'] , house['Price'])"
   ]
  },
  {
   "cell_type": "code",
   "execution_count": 65,
   "id": "9d3a3486",
   "metadata": {},
   "outputs": [
    {
     "data": {
      "text/html": [
       "<div>\n",
       "<style scoped>\n",
       "    .dataframe tbody tr th:only-of-type {\n",
       "        vertical-align: middle;\n",
       "    }\n",
       "\n",
       "    .dataframe tbody tr th {\n",
       "        vertical-align: top;\n",
       "    }\n",
       "\n",
       "    .dataframe thead th {\n",
       "        text-align: right;\n",
       "    }\n",
       "</style>\n",
       "<table border=\"1\" class=\"dataframe\">\n",
       "  <thead>\n",
       "    <tr style=\"text-align: right;\">\n",
       "      <th>Price</th>\n",
       "      <th>1.593866e+04</th>\n",
       "      <th>3.114052e+04</th>\n",
       "      <th>8.859177e+04</th>\n",
       "      <th>1.430274e+05</th>\n",
       "      <th>1.515271e+05</th>\n",
       "      <th>1.520719e+05</th>\n",
       "      <th>2.018981e+05</th>\n",
       "      <th>2.110180e+05</th>\n",
       "      <th>2.311898e+05</th>\n",
       "      <th>2.393199e+05</th>\n",
       "      <th>...</th>\n",
       "      <th>2.252243e+06</th>\n",
       "      <th>2.271113e+06</th>\n",
       "      <th>2.275455e+06</th>\n",
       "      <th>2.294648e+06</th>\n",
       "      <th>2.298379e+06</th>\n",
       "      <th>2.318286e+06</th>\n",
       "      <th>2.330290e+06</th>\n",
       "      <th>2.332111e+06</th>\n",
       "      <th>2.370231e+06</th>\n",
       "      <th>2.469066e+06</th>\n",
       "    </tr>\n",
       "    <tr>\n",
       "      <th>Avg. Area Income</th>\n",
       "      <th></th>\n",
       "      <th></th>\n",
       "      <th></th>\n",
       "      <th></th>\n",
       "      <th></th>\n",
       "      <th></th>\n",
       "      <th></th>\n",
       "      <th></th>\n",
       "      <th></th>\n",
       "      <th></th>\n",
       "      <th></th>\n",
       "      <th></th>\n",
       "      <th></th>\n",
       "      <th></th>\n",
       "      <th></th>\n",
       "      <th></th>\n",
       "      <th></th>\n",
       "      <th></th>\n",
       "      <th></th>\n",
       "      <th></th>\n",
       "      <th></th>\n",
       "    </tr>\n",
       "  </thead>\n",
       "  <tbody>\n",
       "    <tr>\n",
       "      <th>17796.631190</th>\n",
       "      <td>0.0</td>\n",
       "      <td>0.0</td>\n",
       "      <td>0.0</td>\n",
       "      <td>0.0</td>\n",
       "      <td>0.0</td>\n",
       "      <td>0.0</td>\n",
       "      <td>0.0</td>\n",
       "      <td>0.0</td>\n",
       "      <td>0.0</td>\n",
       "      <td>0.0</td>\n",
       "      <td>...</td>\n",
       "      <td>0.0</td>\n",
       "      <td>0.0</td>\n",
       "      <td>0.0</td>\n",
       "      <td>0.0</td>\n",
       "      <td>0.0</td>\n",
       "      <td>0.0</td>\n",
       "      <td>0.0</td>\n",
       "      <td>0.0</td>\n",
       "      <td>0.0</td>\n",
       "      <td>0.0</td>\n",
       "    </tr>\n",
       "    <tr>\n",
       "      <th>35454.714659</th>\n",
       "      <td>0.0</td>\n",
       "      <td>0.0</td>\n",
       "      <td>0.0</td>\n",
       "      <td>0.0</td>\n",
       "      <td>0.0</td>\n",
       "      <td>0.0</td>\n",
       "      <td>0.0</td>\n",
       "      <td>0.0</td>\n",
       "      <td>0.0</td>\n",
       "      <td>0.0</td>\n",
       "      <td>...</td>\n",
       "      <td>0.0</td>\n",
       "      <td>0.0</td>\n",
       "      <td>0.0</td>\n",
       "      <td>0.0</td>\n",
       "      <td>0.0</td>\n",
       "      <td>0.0</td>\n",
       "      <td>0.0</td>\n",
       "      <td>0.0</td>\n",
       "      <td>0.0</td>\n",
       "      <td>0.0</td>\n",
       "    </tr>\n",
       "    <tr>\n",
       "      <th>35608.986237</th>\n",
       "      <td>0.0</td>\n",
       "      <td>0.0</td>\n",
       "      <td>0.0</td>\n",
       "      <td>0.0</td>\n",
       "      <td>0.0</td>\n",
       "      <td>0.0</td>\n",
       "      <td>0.0</td>\n",
       "      <td>0.0</td>\n",
       "      <td>0.0</td>\n",
       "      <td>0.0</td>\n",
       "      <td>...</td>\n",
       "      <td>0.0</td>\n",
       "      <td>0.0</td>\n",
       "      <td>0.0</td>\n",
       "      <td>0.0</td>\n",
       "      <td>0.0</td>\n",
       "      <td>0.0</td>\n",
       "      <td>0.0</td>\n",
       "      <td>0.0</td>\n",
       "      <td>0.0</td>\n",
       "      <td>0.0</td>\n",
       "    </tr>\n",
       "    <tr>\n",
       "      <th>35797.323122</th>\n",
       "      <td>0.0</td>\n",
       "      <td>0.0</td>\n",
       "      <td>0.0</td>\n",
       "      <td>0.0</td>\n",
       "      <td>0.0</td>\n",
       "      <td>0.0</td>\n",
       "      <td>0.0</td>\n",
       "      <td>0.0</td>\n",
       "      <td>0.0</td>\n",
       "      <td>0.0</td>\n",
       "      <td>...</td>\n",
       "      <td>0.0</td>\n",
       "      <td>0.0</td>\n",
       "      <td>0.0</td>\n",
       "      <td>0.0</td>\n",
       "      <td>0.0</td>\n",
       "      <td>0.0</td>\n",
       "      <td>0.0</td>\n",
       "      <td>0.0</td>\n",
       "      <td>0.0</td>\n",
       "      <td>0.0</td>\n",
       "    </tr>\n",
       "    <tr>\n",
       "      <th>35963.330809</th>\n",
       "      <td>0.0</td>\n",
       "      <td>0.0</td>\n",
       "      <td>0.0</td>\n",
       "      <td>1.0</td>\n",
       "      <td>0.0</td>\n",
       "      <td>0.0</td>\n",
       "      <td>0.0</td>\n",
       "      <td>0.0</td>\n",
       "      <td>0.0</td>\n",
       "      <td>0.0</td>\n",
       "      <td>...</td>\n",
       "      <td>0.0</td>\n",
       "      <td>0.0</td>\n",
       "      <td>0.0</td>\n",
       "      <td>0.0</td>\n",
       "      <td>0.0</td>\n",
       "      <td>0.0</td>\n",
       "      <td>0.0</td>\n",
       "      <td>0.0</td>\n",
       "      <td>0.0</td>\n",
       "      <td>0.0</td>\n",
       "    </tr>\n",
       "    <tr>\n",
       "      <th>...</th>\n",
       "      <td>...</td>\n",
       "      <td>...</td>\n",
       "      <td>...</td>\n",
       "      <td>...</td>\n",
       "      <td>...</td>\n",
       "      <td>...</td>\n",
       "      <td>...</td>\n",
       "      <td>...</td>\n",
       "      <td>...</td>\n",
       "      <td>...</td>\n",
       "      <td>...</td>\n",
       "      <td>...</td>\n",
       "      <td>...</td>\n",
       "      <td>...</td>\n",
       "      <td>...</td>\n",
       "      <td>...</td>\n",
       "      <td>...</td>\n",
       "      <td>...</td>\n",
       "      <td>...</td>\n",
       "      <td>...</td>\n",
       "      <td>...</td>\n",
       "    </tr>\n",
       "    <tr>\n",
       "      <th>101599.670580</th>\n",
       "      <td>0.0</td>\n",
       "      <td>0.0</td>\n",
       "      <td>0.0</td>\n",
       "      <td>0.0</td>\n",
       "      <td>0.0</td>\n",
       "      <td>0.0</td>\n",
       "      <td>0.0</td>\n",
       "      <td>0.0</td>\n",
       "      <td>0.0</td>\n",
       "      <td>0.0</td>\n",
       "      <td>...</td>\n",
       "      <td>0.0</td>\n",
       "      <td>0.0</td>\n",
       "      <td>0.0</td>\n",
       "      <td>0.0</td>\n",
       "      <td>0.0</td>\n",
       "      <td>0.0</td>\n",
       "      <td>0.0</td>\n",
       "      <td>0.0</td>\n",
       "      <td>1.0</td>\n",
       "      <td>0.0</td>\n",
       "    </tr>\n",
       "    <tr>\n",
       "      <th>101928.858060</th>\n",
       "      <td>0.0</td>\n",
       "      <td>0.0</td>\n",
       "      <td>0.0</td>\n",
       "      <td>0.0</td>\n",
       "      <td>0.0</td>\n",
       "      <td>0.0</td>\n",
       "      <td>0.0</td>\n",
       "      <td>0.0</td>\n",
       "      <td>0.0</td>\n",
       "      <td>0.0</td>\n",
       "      <td>...</td>\n",
       "      <td>0.0</td>\n",
       "      <td>0.0</td>\n",
       "      <td>0.0</td>\n",
       "      <td>0.0</td>\n",
       "      <td>0.0</td>\n",
       "      <td>0.0</td>\n",
       "      <td>0.0</td>\n",
       "      <td>0.0</td>\n",
       "      <td>0.0</td>\n",
       "      <td>0.0</td>\n",
       "    </tr>\n",
       "    <tr>\n",
       "      <th>102881.120902</th>\n",
       "      <td>0.0</td>\n",
       "      <td>0.0</td>\n",
       "      <td>0.0</td>\n",
       "      <td>0.0</td>\n",
       "      <td>0.0</td>\n",
       "      <td>0.0</td>\n",
       "      <td>0.0</td>\n",
       "      <td>0.0</td>\n",
       "      <td>0.0</td>\n",
       "      <td>0.0</td>\n",
       "      <td>...</td>\n",
       "      <td>0.0</td>\n",
       "      <td>0.0</td>\n",
       "      <td>0.0</td>\n",
       "      <td>0.0</td>\n",
       "      <td>0.0</td>\n",
       "      <td>0.0</td>\n",
       "      <td>0.0</td>\n",
       "      <td>0.0</td>\n",
       "      <td>0.0</td>\n",
       "      <td>0.0</td>\n",
       "    </tr>\n",
       "    <tr>\n",
       "      <th>104702.724257</th>\n",
       "      <td>0.0</td>\n",
       "      <td>0.0</td>\n",
       "      <td>0.0</td>\n",
       "      <td>0.0</td>\n",
       "      <td>0.0</td>\n",
       "      <td>0.0</td>\n",
       "      <td>0.0</td>\n",
       "      <td>0.0</td>\n",
       "      <td>0.0</td>\n",
       "      <td>0.0</td>\n",
       "      <td>...</td>\n",
       "      <td>0.0</td>\n",
       "      <td>0.0</td>\n",
       "      <td>0.0</td>\n",
       "      <td>0.0</td>\n",
       "      <td>0.0</td>\n",
       "      <td>0.0</td>\n",
       "      <td>0.0</td>\n",
       "      <td>0.0</td>\n",
       "      <td>0.0</td>\n",
       "      <td>0.0</td>\n",
       "    </tr>\n",
       "    <tr>\n",
       "      <th>107701.748378</th>\n",
       "      <td>0.0</td>\n",
       "      <td>0.0</td>\n",
       "      <td>0.0</td>\n",
       "      <td>0.0</td>\n",
       "      <td>0.0</td>\n",
       "      <td>0.0</td>\n",
       "      <td>0.0</td>\n",
       "      <td>0.0</td>\n",
       "      <td>0.0</td>\n",
       "      <td>0.0</td>\n",
       "      <td>...</td>\n",
       "      <td>0.0</td>\n",
       "      <td>0.0</td>\n",
       "      <td>0.0</td>\n",
       "      <td>0.0</td>\n",
       "      <td>0.0</td>\n",
       "      <td>0.0</td>\n",
       "      <td>0.0</td>\n",
       "      <td>1.0</td>\n",
       "      <td>0.0</td>\n",
       "      <td>0.0</td>\n",
       "    </tr>\n",
       "  </tbody>\n",
       "</table>\n",
       "<p>5000 rows × 5000 columns</p>\n",
       "</div>"
      ],
      "text/plain": [
       "Price             1.593866e+04  3.114052e+04  8.859177e+04  1.430274e+05  \\\n",
       "Avg. Area Income                                                           \n",
       "17796.631190               0.0           0.0           0.0           0.0   \n",
       "35454.714659               0.0           0.0           0.0           0.0   \n",
       "35608.986237               0.0           0.0           0.0           0.0   \n",
       "35797.323122               0.0           0.0           0.0           0.0   \n",
       "35963.330809               0.0           0.0           0.0           1.0   \n",
       "...                        ...           ...           ...           ...   \n",
       "101599.670580              0.0           0.0           0.0           0.0   \n",
       "101928.858060              0.0           0.0           0.0           0.0   \n",
       "102881.120902              0.0           0.0           0.0           0.0   \n",
       "104702.724257              0.0           0.0           0.0           0.0   \n",
       "107701.748378              0.0           0.0           0.0           0.0   \n",
       "\n",
       "Price             1.515271e+05  1.520719e+05  2.018981e+05  2.110180e+05  \\\n",
       "Avg. Area Income                                                           \n",
       "17796.631190               0.0           0.0           0.0           0.0   \n",
       "35454.714659               0.0           0.0           0.0           0.0   \n",
       "35608.986237               0.0           0.0           0.0           0.0   \n",
       "35797.323122               0.0           0.0           0.0           0.0   \n",
       "35963.330809               0.0           0.0           0.0           0.0   \n",
       "...                        ...           ...           ...           ...   \n",
       "101599.670580              0.0           0.0           0.0           0.0   \n",
       "101928.858060              0.0           0.0           0.0           0.0   \n",
       "102881.120902              0.0           0.0           0.0           0.0   \n",
       "104702.724257              0.0           0.0           0.0           0.0   \n",
       "107701.748378              0.0           0.0           0.0           0.0   \n",
       "\n",
       "Price             2.311898e+05  2.393199e+05  ...  2.252243e+06  2.271113e+06  \\\n",
       "Avg. Area Income                              ...                               \n",
       "17796.631190               0.0           0.0  ...           0.0           0.0   \n",
       "35454.714659               0.0           0.0  ...           0.0           0.0   \n",
       "35608.986237               0.0           0.0  ...           0.0           0.0   \n",
       "35797.323122               0.0           0.0  ...           0.0           0.0   \n",
       "35963.330809               0.0           0.0  ...           0.0           0.0   \n",
       "...                        ...           ...  ...           ...           ...   \n",
       "101599.670580              0.0           0.0  ...           0.0           0.0   \n",
       "101928.858060              0.0           0.0  ...           0.0           0.0   \n",
       "102881.120902              0.0           0.0  ...           0.0           0.0   \n",
       "104702.724257              0.0           0.0  ...           0.0           0.0   \n",
       "107701.748378              0.0           0.0  ...           0.0           0.0   \n",
       "\n",
       "Price             2.275455e+06  2.294648e+06  2.298379e+06  2.318286e+06  \\\n",
       "Avg. Area Income                                                           \n",
       "17796.631190               0.0           0.0           0.0           0.0   \n",
       "35454.714659               0.0           0.0           0.0           0.0   \n",
       "35608.986237               0.0           0.0           0.0           0.0   \n",
       "35797.323122               0.0           0.0           0.0           0.0   \n",
       "35963.330809               0.0           0.0           0.0           0.0   \n",
       "...                        ...           ...           ...           ...   \n",
       "101599.670580              0.0           0.0           0.0           0.0   \n",
       "101928.858060              0.0           0.0           0.0           0.0   \n",
       "102881.120902              0.0           0.0           0.0           0.0   \n",
       "104702.724257              0.0           0.0           0.0           0.0   \n",
       "107701.748378              0.0           0.0           0.0           0.0   \n",
       "\n",
       "Price             2.330290e+06  2.332111e+06  2.370231e+06  2.469066e+06  \n",
       "Avg. Area Income                                                          \n",
       "17796.631190               0.0           0.0           0.0           0.0  \n",
       "35454.714659               0.0           0.0           0.0           0.0  \n",
       "35608.986237               0.0           0.0           0.0           0.0  \n",
       "35797.323122               0.0           0.0           0.0           0.0  \n",
       "35963.330809               0.0           0.0           0.0           0.0  \n",
       "...                        ...           ...           ...           ...  \n",
       "101599.670580              0.0           0.0           1.0           0.0  \n",
       "101928.858060              0.0           0.0           0.0           0.0  \n",
       "102881.120902              0.0           0.0           0.0           0.0  \n",
       "104702.724257              0.0           0.0           0.0           0.0  \n",
       "107701.748378              0.0           1.0           0.0           0.0  \n",
       "\n",
       "[5000 rows x 5000 columns]"
      ]
     },
     "execution_count": 65,
     "metadata": {},
     "output_type": "execute_result"
    }
   ],
   "source": [
    "pd.crosstab(house['Avg. Area Income'] , house['Price'] , normalize='columns')"
   ]
  },
  {
   "cell_type": "code",
   "execution_count": 67,
   "id": "5424f3aa",
   "metadata": {
    "scrolled": false
   },
   "outputs": [
    {
     "data": {
      "text/html": [
       "<div>\n",
       "<style scoped>\n",
       "    .dataframe tbody tr th:only-of-type {\n",
       "        vertical-align: middle;\n",
       "    }\n",
       "\n",
       "    .dataframe tbody tr th {\n",
       "        vertical-align: top;\n",
       "    }\n",
       "\n",
       "    .dataframe thead th {\n",
       "        text-align: right;\n",
       "    }\n",
       "</style>\n",
       "<table border=\"1\" class=\"dataframe\">\n",
       "  <thead>\n",
       "    <tr style=\"text-align: right;\">\n",
       "      <th>Price</th>\n",
       "      <th>1.593866e+04</th>\n",
       "      <th>3.114052e+04</th>\n",
       "      <th>8.859177e+04</th>\n",
       "      <th>1.430274e+05</th>\n",
       "      <th>1.515271e+05</th>\n",
       "      <th>1.520719e+05</th>\n",
       "      <th>2.018981e+05</th>\n",
       "      <th>2.110180e+05</th>\n",
       "      <th>2.311898e+05</th>\n",
       "      <th>2.393199e+05</th>\n",
       "      <th>...</th>\n",
       "      <th>2.252243e+06</th>\n",
       "      <th>2.271113e+06</th>\n",
       "      <th>2.275455e+06</th>\n",
       "      <th>2.294648e+06</th>\n",
       "      <th>2.298379e+06</th>\n",
       "      <th>2.318286e+06</th>\n",
       "      <th>2.330290e+06</th>\n",
       "      <th>2.332111e+06</th>\n",
       "      <th>2.370231e+06</th>\n",
       "      <th>2.469066e+06</th>\n",
       "    </tr>\n",
       "    <tr>\n",
       "      <th>Avg. Area Income</th>\n",
       "      <th></th>\n",
       "      <th></th>\n",
       "      <th></th>\n",
       "      <th></th>\n",
       "      <th></th>\n",
       "      <th></th>\n",
       "      <th></th>\n",
       "      <th></th>\n",
       "      <th></th>\n",
       "      <th></th>\n",
       "      <th></th>\n",
       "      <th></th>\n",
       "      <th></th>\n",
       "      <th></th>\n",
       "      <th></th>\n",
       "      <th></th>\n",
       "      <th></th>\n",
       "      <th></th>\n",
       "      <th></th>\n",
       "      <th></th>\n",
       "      <th></th>\n",
       "    </tr>\n",
       "  </thead>\n",
       "  <tbody>\n",
       "    <tr>\n",
       "      <th>17796.631190</th>\n",
       "      <td>0.0</td>\n",
       "      <td>0.0</td>\n",
       "      <td>0.0</td>\n",
       "      <td>0.0</td>\n",
       "      <td>0.0</td>\n",
       "      <td>0.0</td>\n",
       "      <td>0.0</td>\n",
       "      <td>0.0</td>\n",
       "      <td>0.0</td>\n",
       "      <td>0.0</td>\n",
       "      <td>...</td>\n",
       "      <td>0.0</td>\n",
       "      <td>0.0</td>\n",
       "      <td>0.0</td>\n",
       "      <td>0.0</td>\n",
       "      <td>0.0</td>\n",
       "      <td>0.0</td>\n",
       "      <td>0.0</td>\n",
       "      <td>0.0</td>\n",
       "      <td>0.0</td>\n",
       "      <td>0.0</td>\n",
       "    </tr>\n",
       "    <tr>\n",
       "      <th>35454.714659</th>\n",
       "      <td>0.0</td>\n",
       "      <td>0.0</td>\n",
       "      <td>0.0</td>\n",
       "      <td>0.0</td>\n",
       "      <td>0.0</td>\n",
       "      <td>0.0</td>\n",
       "      <td>0.0</td>\n",
       "      <td>0.0</td>\n",
       "      <td>0.0</td>\n",
       "      <td>0.0</td>\n",
       "      <td>...</td>\n",
       "      <td>0.0</td>\n",
       "      <td>0.0</td>\n",
       "      <td>0.0</td>\n",
       "      <td>0.0</td>\n",
       "      <td>0.0</td>\n",
       "      <td>0.0</td>\n",
       "      <td>0.0</td>\n",
       "      <td>0.0</td>\n",
       "      <td>0.0</td>\n",
       "      <td>0.0</td>\n",
       "    </tr>\n",
       "    <tr>\n",
       "      <th>35608.986237</th>\n",
       "      <td>0.0</td>\n",
       "      <td>0.0</td>\n",
       "      <td>0.0</td>\n",
       "      <td>0.0</td>\n",
       "      <td>0.0</td>\n",
       "      <td>0.0</td>\n",
       "      <td>0.0</td>\n",
       "      <td>0.0</td>\n",
       "      <td>0.0</td>\n",
       "      <td>0.0</td>\n",
       "      <td>...</td>\n",
       "      <td>0.0</td>\n",
       "      <td>0.0</td>\n",
       "      <td>0.0</td>\n",
       "      <td>0.0</td>\n",
       "      <td>0.0</td>\n",
       "      <td>0.0</td>\n",
       "      <td>0.0</td>\n",
       "      <td>0.0</td>\n",
       "      <td>0.0</td>\n",
       "      <td>0.0</td>\n",
       "    </tr>\n",
       "    <tr>\n",
       "      <th>35797.323122</th>\n",
       "      <td>0.0</td>\n",
       "      <td>0.0</td>\n",
       "      <td>0.0</td>\n",
       "      <td>0.0</td>\n",
       "      <td>0.0</td>\n",
       "      <td>0.0</td>\n",
       "      <td>0.0</td>\n",
       "      <td>0.0</td>\n",
       "      <td>0.0</td>\n",
       "      <td>0.0</td>\n",
       "      <td>...</td>\n",
       "      <td>0.0</td>\n",
       "      <td>0.0</td>\n",
       "      <td>0.0</td>\n",
       "      <td>0.0</td>\n",
       "      <td>0.0</td>\n",
       "      <td>0.0</td>\n",
       "      <td>0.0</td>\n",
       "      <td>0.0</td>\n",
       "      <td>0.0</td>\n",
       "      <td>0.0</td>\n",
       "    </tr>\n",
       "    <tr>\n",
       "      <th>35963.330809</th>\n",
       "      <td>0.0</td>\n",
       "      <td>0.0</td>\n",
       "      <td>0.0</td>\n",
       "      <td>100.0</td>\n",
       "      <td>0.0</td>\n",
       "      <td>0.0</td>\n",
       "      <td>0.0</td>\n",
       "      <td>0.0</td>\n",
       "      <td>0.0</td>\n",
       "      <td>0.0</td>\n",
       "      <td>...</td>\n",
       "      <td>0.0</td>\n",
       "      <td>0.0</td>\n",
       "      <td>0.0</td>\n",
       "      <td>0.0</td>\n",
       "      <td>0.0</td>\n",
       "      <td>0.0</td>\n",
       "      <td>0.0</td>\n",
       "      <td>0.0</td>\n",
       "      <td>0.0</td>\n",
       "      <td>0.0</td>\n",
       "    </tr>\n",
       "    <tr>\n",
       "      <th>...</th>\n",
       "      <td>...</td>\n",
       "      <td>...</td>\n",
       "      <td>...</td>\n",
       "      <td>...</td>\n",
       "      <td>...</td>\n",
       "      <td>...</td>\n",
       "      <td>...</td>\n",
       "      <td>...</td>\n",
       "      <td>...</td>\n",
       "      <td>...</td>\n",
       "      <td>...</td>\n",
       "      <td>...</td>\n",
       "      <td>...</td>\n",
       "      <td>...</td>\n",
       "      <td>...</td>\n",
       "      <td>...</td>\n",
       "      <td>...</td>\n",
       "      <td>...</td>\n",
       "      <td>...</td>\n",
       "      <td>...</td>\n",
       "      <td>...</td>\n",
       "    </tr>\n",
       "    <tr>\n",
       "      <th>101599.670580</th>\n",
       "      <td>0.0</td>\n",
       "      <td>0.0</td>\n",
       "      <td>0.0</td>\n",
       "      <td>0.0</td>\n",
       "      <td>0.0</td>\n",
       "      <td>0.0</td>\n",
       "      <td>0.0</td>\n",
       "      <td>0.0</td>\n",
       "      <td>0.0</td>\n",
       "      <td>0.0</td>\n",
       "      <td>...</td>\n",
       "      <td>0.0</td>\n",
       "      <td>0.0</td>\n",
       "      <td>0.0</td>\n",
       "      <td>0.0</td>\n",
       "      <td>0.0</td>\n",
       "      <td>0.0</td>\n",
       "      <td>0.0</td>\n",
       "      <td>0.0</td>\n",
       "      <td>100.0</td>\n",
       "      <td>0.0</td>\n",
       "    </tr>\n",
       "    <tr>\n",
       "      <th>101928.858060</th>\n",
       "      <td>0.0</td>\n",
       "      <td>0.0</td>\n",
       "      <td>0.0</td>\n",
       "      <td>0.0</td>\n",
       "      <td>0.0</td>\n",
       "      <td>0.0</td>\n",
       "      <td>0.0</td>\n",
       "      <td>0.0</td>\n",
       "      <td>0.0</td>\n",
       "      <td>0.0</td>\n",
       "      <td>...</td>\n",
       "      <td>0.0</td>\n",
       "      <td>0.0</td>\n",
       "      <td>0.0</td>\n",
       "      <td>0.0</td>\n",
       "      <td>0.0</td>\n",
       "      <td>0.0</td>\n",
       "      <td>0.0</td>\n",
       "      <td>0.0</td>\n",
       "      <td>0.0</td>\n",
       "      <td>0.0</td>\n",
       "    </tr>\n",
       "    <tr>\n",
       "      <th>102881.120902</th>\n",
       "      <td>0.0</td>\n",
       "      <td>0.0</td>\n",
       "      <td>0.0</td>\n",
       "      <td>0.0</td>\n",
       "      <td>0.0</td>\n",
       "      <td>0.0</td>\n",
       "      <td>0.0</td>\n",
       "      <td>0.0</td>\n",
       "      <td>0.0</td>\n",
       "      <td>0.0</td>\n",
       "      <td>...</td>\n",
       "      <td>0.0</td>\n",
       "      <td>0.0</td>\n",
       "      <td>0.0</td>\n",
       "      <td>0.0</td>\n",
       "      <td>0.0</td>\n",
       "      <td>0.0</td>\n",
       "      <td>0.0</td>\n",
       "      <td>0.0</td>\n",
       "      <td>0.0</td>\n",
       "      <td>0.0</td>\n",
       "    </tr>\n",
       "    <tr>\n",
       "      <th>104702.724257</th>\n",
       "      <td>0.0</td>\n",
       "      <td>0.0</td>\n",
       "      <td>0.0</td>\n",
       "      <td>0.0</td>\n",
       "      <td>0.0</td>\n",
       "      <td>0.0</td>\n",
       "      <td>0.0</td>\n",
       "      <td>0.0</td>\n",
       "      <td>0.0</td>\n",
       "      <td>0.0</td>\n",
       "      <td>...</td>\n",
       "      <td>0.0</td>\n",
       "      <td>0.0</td>\n",
       "      <td>0.0</td>\n",
       "      <td>0.0</td>\n",
       "      <td>0.0</td>\n",
       "      <td>0.0</td>\n",
       "      <td>0.0</td>\n",
       "      <td>0.0</td>\n",
       "      <td>0.0</td>\n",
       "      <td>0.0</td>\n",
       "    </tr>\n",
       "    <tr>\n",
       "      <th>107701.748378</th>\n",
       "      <td>0.0</td>\n",
       "      <td>0.0</td>\n",
       "      <td>0.0</td>\n",
       "      <td>0.0</td>\n",
       "      <td>0.0</td>\n",
       "      <td>0.0</td>\n",
       "      <td>0.0</td>\n",
       "      <td>0.0</td>\n",
       "      <td>0.0</td>\n",
       "      <td>0.0</td>\n",
       "      <td>...</td>\n",
       "      <td>0.0</td>\n",
       "      <td>0.0</td>\n",
       "      <td>0.0</td>\n",
       "      <td>0.0</td>\n",
       "      <td>0.0</td>\n",
       "      <td>0.0</td>\n",
       "      <td>0.0</td>\n",
       "      <td>100.0</td>\n",
       "      <td>0.0</td>\n",
       "      <td>0.0</td>\n",
       "    </tr>\n",
       "  </tbody>\n",
       "</table>\n",
       "<p>5000 rows × 5000 columns</p>\n",
       "</div>"
      ],
      "text/plain": [
       "Price             1.593866e+04  3.114052e+04  8.859177e+04  1.430274e+05  \\\n",
       "Avg. Area Income                                                           \n",
       "17796.631190               0.0           0.0           0.0           0.0   \n",
       "35454.714659               0.0           0.0           0.0           0.0   \n",
       "35608.986237               0.0           0.0           0.0           0.0   \n",
       "35797.323122               0.0           0.0           0.0           0.0   \n",
       "35963.330809               0.0           0.0           0.0         100.0   \n",
       "...                        ...           ...           ...           ...   \n",
       "101599.670580              0.0           0.0           0.0           0.0   \n",
       "101928.858060              0.0           0.0           0.0           0.0   \n",
       "102881.120902              0.0           0.0           0.0           0.0   \n",
       "104702.724257              0.0           0.0           0.0           0.0   \n",
       "107701.748378              0.0           0.0           0.0           0.0   \n",
       "\n",
       "Price             1.515271e+05  1.520719e+05  2.018981e+05  2.110180e+05  \\\n",
       "Avg. Area Income                                                           \n",
       "17796.631190               0.0           0.0           0.0           0.0   \n",
       "35454.714659               0.0           0.0           0.0           0.0   \n",
       "35608.986237               0.0           0.0           0.0           0.0   \n",
       "35797.323122               0.0           0.0           0.0           0.0   \n",
       "35963.330809               0.0           0.0           0.0           0.0   \n",
       "...                        ...           ...           ...           ...   \n",
       "101599.670580              0.0           0.0           0.0           0.0   \n",
       "101928.858060              0.0           0.0           0.0           0.0   \n",
       "102881.120902              0.0           0.0           0.0           0.0   \n",
       "104702.724257              0.0           0.0           0.0           0.0   \n",
       "107701.748378              0.0           0.0           0.0           0.0   \n",
       "\n",
       "Price             2.311898e+05  2.393199e+05  ...  2.252243e+06  2.271113e+06  \\\n",
       "Avg. Area Income                              ...                               \n",
       "17796.631190               0.0           0.0  ...           0.0           0.0   \n",
       "35454.714659               0.0           0.0  ...           0.0           0.0   \n",
       "35608.986237               0.0           0.0  ...           0.0           0.0   \n",
       "35797.323122               0.0           0.0  ...           0.0           0.0   \n",
       "35963.330809               0.0           0.0  ...           0.0           0.0   \n",
       "...                        ...           ...  ...           ...           ...   \n",
       "101599.670580              0.0           0.0  ...           0.0           0.0   \n",
       "101928.858060              0.0           0.0  ...           0.0           0.0   \n",
       "102881.120902              0.0           0.0  ...           0.0           0.0   \n",
       "104702.724257              0.0           0.0  ...           0.0           0.0   \n",
       "107701.748378              0.0           0.0  ...           0.0           0.0   \n",
       "\n",
       "Price             2.275455e+06  2.294648e+06  2.298379e+06  2.318286e+06  \\\n",
       "Avg. Area Income                                                           \n",
       "17796.631190               0.0           0.0           0.0           0.0   \n",
       "35454.714659               0.0           0.0           0.0           0.0   \n",
       "35608.986237               0.0           0.0           0.0           0.0   \n",
       "35797.323122               0.0           0.0           0.0           0.0   \n",
       "35963.330809               0.0           0.0           0.0           0.0   \n",
       "...                        ...           ...           ...           ...   \n",
       "101599.670580              0.0           0.0           0.0           0.0   \n",
       "101928.858060              0.0           0.0           0.0           0.0   \n",
       "102881.120902              0.0           0.0           0.0           0.0   \n",
       "104702.724257              0.0           0.0           0.0           0.0   \n",
       "107701.748378              0.0           0.0           0.0           0.0   \n",
       "\n",
       "Price             2.330290e+06  2.332111e+06  2.370231e+06  2.469066e+06  \n",
       "Avg. Area Income                                                          \n",
       "17796.631190               0.0           0.0           0.0           0.0  \n",
       "35454.714659               0.0           0.0           0.0           0.0  \n",
       "35608.986237               0.0           0.0           0.0           0.0  \n",
       "35797.323122               0.0           0.0           0.0           0.0  \n",
       "35963.330809               0.0           0.0           0.0           0.0  \n",
       "...                        ...           ...           ...           ...  \n",
       "101599.670580              0.0           0.0         100.0           0.0  \n",
       "101928.858060              0.0           0.0           0.0           0.0  \n",
       "102881.120902              0.0           0.0           0.0           0.0  \n",
       "104702.724257              0.0           0.0           0.0           0.0  \n",
       "107701.748378              0.0         100.0           0.0           0.0  \n",
       "\n",
       "[5000 rows x 5000 columns]"
      ]
     },
     "execution_count": 67,
     "metadata": {},
     "output_type": "execute_result"
    }
   ],
   "source": [
    "pd.crosstab(house['Avg. Area Income'] , house['Price'] , normalize='columns')*100"
   ]
  },
  {
   "cell_type": "code",
   "execution_count": null,
   "id": "db3b699a",
   "metadata": {},
   "outputs": [],
   "source": [
    "(pd.crosstab(house['Avg. Area Income'] , house['Price'] , normalize='columns')*100).plot(kind='kde')"
   ]
  },
  {
   "cell_type": "code",
   "execution_count": null,
   "id": "79343b40",
   "metadata": {},
   "outputs": [],
   "source": []
  }
 ],
 "metadata": {
  "kernelspec": {
   "display_name": "Python 3 (ipykernel)",
   "language": "python",
   "name": "python3"
  },
  "language_info": {
   "codemirror_mode": {
    "name": "ipython",
    "version": 3
   },
   "file_extension": ".py",
   "mimetype": "text/x-python",
   "name": "python",
   "nbconvert_exporter": "python",
   "pygments_lexer": "ipython3",
   "version": "3.11.5"
  }
 },
 "nbformat": 4,
 "nbformat_minor": 5
}
